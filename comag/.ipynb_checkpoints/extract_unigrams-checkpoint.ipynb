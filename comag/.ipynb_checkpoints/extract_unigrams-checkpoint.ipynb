{
 "cells": [
  {
   "cell_type": "code",
   "execution_count": 1,
   "metadata": {
    "collapsed": true
   },
   "outputs": [],
   "source": [
    "import pickle"
   ]
  },
  {
   "cell_type": "code",
   "execution_count": 2,
   "metadata": {
    "collapsed": true
   },
   "outputs": [],
   "source": [
    "topic = 'ugip'"
   ]
  },
  {
   "cell_type": "code",
   "execution_count": 3,
   "metadata": {
    "collapsed": true
   },
   "outputs": [],
   "source": [
    "gm_list = pickle.load(open(\"pickles/\"+topic+\"_list\", \"r\"))"
   ]
  },
  {
   "cell_type": "code",
   "execution_count": 4,
   "metadata": {
    "collapsed": false
   },
   "outputs": [
    {
     "data": {
      "text/plain": [
       "OrderedDict([(u'@id', u'414721685arg1'),\n",
       "             (u'comment',\n",
       "              OrderedDict([(u'text',\n",
       "                            u\"Simple, maybe I believe in Allah, or the flying spaghetti monster, or no god at all. Why won't they put and to the republic, for which it stands, one nation under the flying spaghetti monster...?\"),\n",
       "                           (u'stance', u'Con')])),\n",
       "             (u'argument',\n",
       "              OrderedDict([(u'text', u'Separation of state and religion'),\n",
       "                           (u'stance', u'Con')])),\n",
       "             (u'label', u'3')])"
      ]
     },
     "execution_count": 4,
     "metadata": {},
     "output_type": "execute_result"
    }
   ],
   "source": [
    "gm_list[0]"
   ]
  },
  {
   "cell_type": "code",
   "execution_count": 5,
   "metadata": {
    "collapsed": true
   },
   "outputs": [],
   "source": [
    "# Create a list of all arguments.\n",
    "gm_args = []\n",
    "for x in gm_list:\n",
    "    gm_args.append(x['argument']['text'])"
   ]
  },
  {
   "cell_type": "code",
   "execution_count": 6,
   "metadata": {
    "collapsed": false
   },
   "outputs": [
    {
     "data": {
      "text/plain": [
       "1013"
      ]
     },
     "execution_count": 6,
     "metadata": {},
     "output_type": "execute_result"
    }
   ],
   "source": [
    "len(gm_args)"
   ]
  },
  {
   "cell_type": "code",
   "execution_count": 7,
   "metadata": {
    "collapsed": false
   },
   "outputs": [
    {
     "data": {
      "text/plain": [
       "6"
      ]
     },
     "execution_count": 7,
     "metadata": {},
     "output_type": "execute_result"
    }
   ],
   "source": [
    "len(set(gm_args))"
   ]
  },
  {
   "cell_type": "code",
   "execution_count": 8,
   "metadata": {
    "collapsed": false
   },
   "outputs": [
    {
     "data": {
      "text/plain": [
       "{u'America is based on democracy and the pledge should reflect the belief of the American majority.',\n",
       " u'Implies ultimate power on the part of the state',\n",
       " u'Likely to be seen as a state sanctioned condemnation of religion',\n",
       " u'Removing under god would promote religious tolerance',\n",
       " u'Separation of state and religion',\n",
       " u'Under God  is part of American tradition and history'}"
      ]
     },
     "execution_count": 8,
     "metadata": {},
     "output_type": "execute_result"
    }
   ],
   "source": [
    "set(gm_args)"
   ]
  },
  {
   "cell_type": "code",
   "execution_count": 9,
   "metadata": {
    "collapsed": false
   },
   "outputs": [],
   "source": [
    "gm_args_unigrams = list(set([w.lower() for a in set(gm_args) for w in a.split()] ))"
   ]
  },
  {
   "cell_type": "code",
   "execution_count": 10,
   "metadata": {
    "collapsed": false,
    "scrolled": true
   },
   "outputs": [
    {
     "data": {
      "text/plain": [
       "[u'and',\n",
       " u'pledge',\n",
       " u'sanctioned',\n",
       " u'is',\n",
       " u'as',\n",
       " u'seen',\n",
       " u'religious',\n",
       " u'america',\n",
       " u'based',\n",
       " u'would',\n",
       " u'to',\n",
       " u'god',\n",
       " u'should',\n",
       " u'religion',\n",
       " u'state',\n",
       " u'under',\n",
       " u'tolerance',\n",
       " u'be',\n",
       " u'belief',\n",
       " u'power',\n",
       " u'condemnation',\n",
       " u'majority.',\n",
       " u'reflect',\n",
       " u'part',\n",
       " u'separation',\n",
       " u'promote',\n",
       " u'tradition',\n",
       " u'a',\n",
       " u'on',\n",
       " u'implies',\n",
       " u'democracy',\n",
       " u'of',\n",
       " u'likely',\n",
       " u'american',\n",
       " u'ultimate',\n",
       " u'removing',\n",
       " u'the',\n",
       " u'history']"
      ]
     },
     "execution_count": 10,
     "metadata": {},
     "output_type": "execute_result"
    }
   ],
   "source": [
    "gm_args_unigrams"
   ]
  },
  {
   "cell_type": "code",
   "execution_count": 11,
   "metadata": {
    "collapsed": false
   },
   "outputs": [],
   "source": [
    "from nltk.corpus import stopwords\n",
    "stop = stopwords.words('english')"
   ]
  },
  {
   "cell_type": "code",
   "execution_count": 18,
   "metadata": {
    "collapsed": false
   },
   "outputs": [],
   "source": [
    "gm_args_unigrams_final = list(set(gm_args_unigrams) - set(stop))"
   ]
  },
  {
   "cell_type": "code",
   "execution_count": 19,
   "metadata": {
    "collapsed": false,
    "scrolled": true
   },
   "outputs": [
    {
     "data": {
      "text/plain": [
       "[u'major',\n",
       " u'right',\n",
       " u'marriages',\n",
       " u'couples',\n",
       " u'religions',\n",
       " u'advantage',\n",
       " u'wedlock',\n",
       " u'union',\n",
       " u'biology.',\n",
       " u'able',\n",
       " u'due',\n",
       " u'legal',\n",
       " u'increase',\n",
       " u'resort',\n",
       " u'rates',\n",
       " u'take',\n",
       " u'denied',\n",
       " u'procreation,',\n",
       " u'undermines',\n",
       " u'therefore',\n",
       " u'woman',\n",
       " u'gay',\n",
       " u'discriminatory',\n",
       " u'births',\n",
       " u'marriage,',\n",
       " u'world',\n",
       " u'institution',\n",
       " u'man',\n",
       " u'fiscal',\n",
       " u'refuse',\n",
       " u'benefits',\n",
       " u'marry',\n",
       " u'divorce',\n",
       " u'without',\n",
       " u'marriage',\n",
       " u'leading',\n",
       " u'declare']"
      ]
     },
     "execution_count": 19,
     "metadata": {},
     "output_type": "execute_result"
    }
   ],
   "source": [
    "gm_args_unigrams_final"
   ]
  },
  {
   "cell_type": "code",
   "execution_count": 20,
   "metadata": {
    "collapsed": true
   },
   "outputs": [],
   "source": [
    "pickle.dump(gm_args_unigrams_final, open(\"gm_unigrams.pk\", \"w\"))"
   ]
  },
  {
   "cell_type": "code",
   "execution_count": 21,
   "metadata": {
    "collapsed": true
   },
   "outputs": [],
   "source": [
    "pickle.dump(gm_args, open(\"gm_args.pk\", \"w\"))"
   ]
  },
  {
   "cell_type": "code",
   "execution_count": 4,
   "metadata": {
    "collapsed": true
   },
   "outputs": [],
   "source": [
    "# Create a list of all comments.\n",
    "gm_comments = []\n",
    "for x in gm_list:\n",
    "    gm_comments.append(x['comment']['text'])"
   ]
  },
  {
   "cell_type": "code",
   "execution_count": 5,
   "metadata": {
    "collapsed": false
   },
   "outputs": [
    {
     "data": {
      "text/plain": [
       "1285"
      ]
     },
     "execution_count": 5,
     "metadata": {},
     "output_type": "execute_result"
    }
   ],
   "source": [
    "len(gm_comments)"
   ]
  },
  {
   "cell_type": "code",
   "execution_count": 6,
   "metadata": {
    "collapsed": false
   },
   "outputs": [
    {
     "data": {
      "text/plain": [
       "198"
      ]
     },
     "execution_count": 6,
     "metadata": {},
     "output_type": "execute_result"
    }
   ],
   "source": [
    "len(set(gm_comments))"
   ]
  },
  {
   "cell_type": "code",
   "execution_count": null,
   "metadata": {
    "collapsed": true
   },
   "outputs": [],
   "source": []
  }
 ],
 "metadata": {
  "kernelspec": {
   "display_name": "Python 2",
   "language": "python",
   "name": "python2"
  },
  "language_info": {
   "codemirror_mode": {
    "name": "ipython",
    "version": 2
   },
   "file_extension": ".py",
   "mimetype": "text/x-python",
   "name": "python",
   "nbconvert_exporter": "python",
   "pygments_lexer": "ipython2",
   "version": "2.7.10"
  }
 },
 "nbformat": 4,
 "nbformat_minor": 0
}
